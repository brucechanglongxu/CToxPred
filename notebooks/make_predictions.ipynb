{
 "cells": [
  {
   "cell_type": "code",
   "execution_count": 1,
   "id": "75857114",
   "metadata": {},
   "outputs": [],
   "source": [
    "import os\n",
    "import sys\n",
    "\n",
    "path = ['..', 'CToxPred']\n",
    "src_dir = os.path.abspath(os.path.join(*path))\n",
    "if src_dir not in sys.path:\n",
    "    sys.path.append(src_dir)"
   ]
  },
  {
   "cell_type": "code",
   "execution_count": 2,
   "id": "52da5097",
   "metadata": {},
   "outputs": [],
   "source": [
    "import joblib\n",
    "from typing import List\n",
    "\n",
    "import matplotlib.pyplot as plt\n",
    "import numpy as np\n",
    "import pandas as pd\n",
    "from sklearn.metrics import confusion_matrix\n",
    "import seaborn as sns\n",
    "import torch\n",
    "\n",
    "from pairwise_correlation import CorrelationThreshold\n",
    "from utils import compute_fingerprint_features, compute_descriptor_features, compute_metrics\n",
    "from hERG_model import hERGClassifier\n",
    "from nav15_model import Nav15Classifier\n",
    "from cav12_model import Cav12Classifier"
   ]
  },
  {
   "cell_type": "markdown",
   "id": "7a75af17",
   "metadata": {},
   "source": [
    "### Load data"
   ]
  },
  {
   "cell_type": "code",
   "execution_count": 3,
   "id": "177627d7",
   "metadata": {},
   "outputs": [],
   "source": [
    "## hERG\n",
    "eval_herg_set_60 = pd.read_csv(\"../data/raw/hERG/eval_set_herg_60.csv\")\n",
    "eval_herg_set_70 = pd.read_csv(\"../data/raw/hERG/eval_set_herg_70.csv\")\n",
    "## Nav1.5\n",
    "eval_nav_set_60 = pd.read_csv(\"../data/raw/Nav1.5/eval_set_nav_60.csv\")\n",
    "eval_nav_set_70 = pd.read_csv(\"../data/raw/Nav1.5/eval_set_nav_70.csv\")\n",
    "## Cav1.2\n",
    "eval_cav_set_60 = pd.read_csv(\"../data/raw/Cav1.2/eval_set_cav_60.csv\")\n",
    "eval_cav_set_70 = pd.read_csv(\"../data/raw/Cav1.2/eval_set_cav_70.csv\")"
   ]
  },
  {
   "cell_type": "markdown",
   "id": "7569ec39",
   "metadata": {},
   "source": [
    "### Assign labels"
   ]
  },
  {
   "cell_type": "code",
   "execution_count": 4,
   "id": "40d9ff95",
   "metadata": {},
   "outputs": [],
   "source": [
    "## Label the sets\n",
    "eval_herg_set_60['Label'] = np.where(eval_herg_set_60['pIC50'] >= 5, 1, 0)\n",
    "eval_herg_set_70['Label'] = np.where(eval_herg_set_70['pIC50'] >= 5, 1, 0)\n",
    "## Label the sets\n",
    "eval_nav_set_60['Label'] = np.where(eval_nav_set_60['pIC50'] >= 5, 1, 0)\n",
    "eval_nav_set_70['Label'] = np.where(eval_nav_set_70['pIC50'] >= 5, 1, 0)\n",
    "## Label the sets\n",
    "eval_cav_set_60['Label'] = np.where(eval_cav_set_60['pIC50'] >= 5, 1, 0)\n",
    "eval_cav_set_70['Label'] = np.where(eval_cav_set_70['pIC50'] >= 5, 1, 0)"
   ]
  },
  {
   "cell_type": "markdown",
   "id": "15659ab1",
   "metadata": {},
   "source": [
    "### Load models"
   ]
  },
  {
   "cell_type": "code",
   "execution_count": 5,
   "id": "3f5bdeae",
   "metadata": {},
   "outputs": [],
   "source": [
    "def _generate_predictions(smiles_list: List[str]) -> pd.DataFrame:\n",
    "    \"\"\"\n",
    "    Generates predictions for hERG, Nav1.5, and Cav1.2 targets based on the provided list of SMILES.\n",
    "\n",
    "    This function processes the input SMILES list and computes fingerprint and descriptor features for each compound.\n",
    "    Then, it loads pre-trained models for hERG, Nav1.5, and Cav1.2 targets, and predicts the activity of each compound\n",
    "    for these targets using the respective models. The predictions are saved to a CSV file named 'predictions.csv'\n",
    "    with columns: 'SMILES', 'hERG', 'Nav1.5', and 'Cav1.2'. The 'hERG', 'Nav1.5', and 'Cav1.2' columns contain the\n",
    "    binary predictions (0 or 1) for each target, representing non-toxic (negative class) or toxic (positive class)\n",
    "    compounds, respectively.\n",
    "\n",
    "    Parameters:\n",
    "        smiles_list: List[str] \n",
    "            A list containing SMILES strings of chemical compounds.\n",
    "\n",
    "    Returns:\n",
    "        pd.DataFrame: \n",
    "            A DataFrame with 4 columns {'SMILES', 'hERG', 'Nav1.5', Cav1.2'} containing the predictions for each target \n",
    "            of the input SMILES strings .\n",
    "    \"\"\"\n",
    "    # Compute features\n",
    "    print('>>>>>>> Calculate Features <<<<<<<')\n",
    "    fingerprints = compute_fingerprint_features(smiles_list)\n",
    "    descriptors = compute_descriptor_features(smiles_list)\n",
    "    # Process hERG\n",
    "    print('>>>>>>> Predict hERG <<<<<<<')\n",
    "    hERG_fingerprints = fingerprints\n",
    "    ## Load model\n",
    "    hERG_predictor = hERGClassifier(1905, 2)\n",
    "    path = ['..','CToxPred', 'models', 'model_weights', 'hERG',\n",
    "            '_herg_checkpoint.model']\n",
    "    hERG_predictor.load(os.path.join(*path))\n",
    "    device = torch.device('cpu')\n",
    "    hERG_predictions = hERG_predictor(\n",
    "        torch.from_numpy(hERG_fingerprints).float().to(device)).argmax(1).cpu()\n",
    "\n",
    "    # Process Nav1.5\n",
    "    print('>>>>>>> Predict Nav1.5 <<<<<<<')\n",
    "    nav15_fingerprints = fingerprints\n",
    "    nav15_descriptors = descriptors\n",
    "    ## Load preprocessing pipeline\n",
    "    path = ['..','CToxPred', 'models', 'decriptors_preprocessing', 'Nav1.5',\n",
    "            'nav_descriptors_preprocessing_pipeline.sav']\n",
    "    descriptors_transformation_pipeline = joblib.load(os.path.join(*path))\n",
    "    nav15_descriptors = descriptors_transformation_pipeline.transform(\n",
    "        nav15_descriptors)\n",
    "    nav15_features = np.concatenate((nav15_fingerprints, nav15_descriptors),\n",
    "                                    axis=1)\n",
    "    ## Load model\n",
    "    nav15_predictor = Nav15Classifier(2454, 2)\n",
    "    path = ['..', 'CToxPred', 'models', 'model_weights', 'Nav1.5',\n",
    "            '_nav15_checkpoint.model']\n",
    "    nav15_predictor.load(os.path.join(*path))\n",
    "    nav15_predictions = nav15_predictor(\n",
    "        torch.from_numpy(nav15_features).float().to(device)).argmax(1).cpu()\n",
    "\n",
    "    # Process Cav1.2\n",
    "    print('>>>>>>> Predict Cav1.2 <<<<<<<')\n",
    "    cav12_fingerprints = fingerprints\n",
    "    cav12_descriptors = descriptors\n",
    "    ## Load preprocessing pipeline\n",
    "    path = ['..', 'CToxPred', 'models', 'decriptors_preprocessing', 'Cav1.2',\n",
    "            'cav_descriptors_preprocessing_pipeline.sav']\n",
    "    descriptors_transformation_pipeline = joblib.load(os.path.join(*path))\n",
    "    cav12_descriptors = descriptors_transformation_pipeline.transform(\n",
    "        cav12_descriptors)\n",
    "    cav12_features = np.concatenate((cav12_fingerprints, cav12_descriptors),\n",
    "                                    axis=1)\n",
    "    ## Load model\n",
    "    cav12_predictor = Cav12Classifier(2586, 2)\n",
    "    path = ['..', 'CToxPred', 'models', 'model_weights', 'Cav1.2',\n",
    "            '_cav12_checkpoint.model']\n",
    "    cav12_predictor.load(os.path.join(*path))\n",
    "    cav12_predictions = cav12_predictor(\n",
    "        torch.from_numpy(cav12_features).float().to(device)).argmax(1).cpu()\n",
    "\n",
    "    # Generate output\n",
    "    results = pd.DataFrame({'SMILES': smiles_list, 'hERG': hERG_predictions,\n",
    "                            'Nav1.5': nav15_predictions,\n",
    "                            'Cav1.2': cav12_predictions})\n",
    "    return results"
   ]
  },
  {
   "cell_type": "markdown",
   "id": "c91b83cf",
   "metadata": {},
   "source": [
    "### Initialize confusion matrix"
   ]
  },
  {
   "cell_type": "code",
   "execution_count": 6,
   "id": "d5ee2e5d",
   "metadata": {},
   "outputs": [],
   "source": [
    "def draw_confusion_matrix(ground_truth, predicted):\n",
    "    ## Compute confusion matrix\n",
    "    matrix = confusion_matrix(ground_truth, predicted)\n",
    "    percentages = (matrix.T/matrix.sum(axis=1)).T\n",
    "    ## Set cell format\n",
    "    flattened_counts = [value for value in matrix.flatten()]\n",
    "    flattened_percentages = [\"{0:.2%}\".format(value) for value in percentages.flatten()]\n",
    "    labels = [f\"{percentage}\\n{value}\" for value, percentage in \n",
    "                                      zip(flattened_counts,flattened_percentages)]\n",
    "    labels = np.asarray(labels).reshape(matrix.shape[0],matrix.shape[0])\n",
    "    ## create dataframe to set x/y-axis labels with focus on percentage\n",
    "    percentDataframe = pd.DataFrame(percentages*100, \n",
    "                           columns = ['Non-blocker','Blocker'],\n",
    "                           index = ['Non-blocker', 'Blocker'])\n",
    "    ## Plot\n",
    "    plt.style.use(['seaborn-white', 'seaborn-paper'])\n",
    "    sns.set_context('paper', font_scale=1.0)\n",
    "    width = 7\n",
    "    height = width / 1.6\n",
    "    plt.figure(figsize=(width, height))\n",
    "    ax = plt.axes()\n",
    "    \n",
    "    sns.heatmap(percentDataframe, annot = labels, fmt='',cmap= 'Blues', ax=ax, vmin=0, vmax=100, cbar_kws={'label': 'Accuracy'})\n",
    "    ax.yaxis.set_tick_params(rotation=0)\n",
    "    ax.set(xlabel='Predicted label', ylabel='True label')\n",
    "    ax.title.set_text('Accuracy = {0:.1%}'.format(sum(1 for x,y in zip(ground_truth,predicted) if x == y) / len(ground_truth)))\n",
    "    plt.show()"
   ]
  },
  {
   "cell_type": "markdown",
   "id": "2a318a49",
   "metadata": {},
   "source": [
    "## Make cardiotoxicity predictions"
   ]
  },
  {
   "cell_type": "code",
   "execution_count": 7,
   "id": "a5f7de5a",
   "metadata": {},
   "outputs": [
    {
     "name": "stdout",
     "output_type": "stream",
     "text": [
      ">>>>>>> Calculate Features <<<<<<<\n"
     ]
    },
    {
     "name": "stderr",
     "output_type": "stream",
     "text": [
      "100%|████████████████████████████████████████████████████████████████████████████████████████████████████████████████████████████████████████████████████████████████████████████| 250/250 [00:24<00:00, 10.41it/s]\n"
     ]
    },
    {
     "name": "stdout",
     "output_type": "stream",
     "text": [
      ">>>>>>> Predict hERG <<<<<<<\n",
      ">>>>>>> Predict Nav1.5 <<<<<<<\n",
      ">>>>>>> Predict Cav1.2 <<<<<<<\n"
     ]
    }
   ],
   "source": [
    "predictions = _generate_predictions(eval_herg_set_60['SMILES'])"
   ]
  },
  {
   "cell_type": "code",
   "execution_count": 8,
   "id": "7b97b909",
   "metadata": {},
   "outputs": [
    {
     "data": {
      "text/html": [
       "<div>\n",
       "<style scoped>\n",
       "    .dataframe tbody tr th:only-of-type {\n",
       "        vertical-align: middle;\n",
       "    }\n",
       "\n",
       "    .dataframe tbody tr th {\n",
       "        vertical-align: top;\n",
       "    }\n",
       "\n",
       "    .dataframe thead th {\n",
       "        text-align: right;\n",
       "    }\n",
       "</style>\n",
       "<table border=\"1\" class=\"dataframe\">\n",
       "  <thead>\n",
       "    <tr style=\"text-align: right;\">\n",
       "      <th></th>\n",
       "      <th>SMILES</th>\n",
       "      <th>hERG</th>\n",
       "      <th>Nav1.5</th>\n",
       "      <th>Cav1.2</th>\n",
       "    </tr>\n",
       "  </thead>\n",
       "  <tbody>\n",
       "    <tr>\n",
       "      <th>0</th>\n",
       "      <td>Cn1ccc(C[N+]2=CC(c3cccc(C(F)(F)F)c3)C=N2)n1</td>\n",
       "      <td>1</td>\n",
       "      <td>0</td>\n",
       "      <td>1</td>\n",
       "    </tr>\n",
       "    <tr>\n",
       "      <th>1</th>\n",
       "      <td>CC(C)(C)OC(=O)N1CCN(c2nc3c([N+](=O)[O-])c(Br)c...</td>\n",
       "      <td>1</td>\n",
       "      <td>1</td>\n",
       "      <td>1</td>\n",
       "    </tr>\n",
       "    <tr>\n",
       "      <th>2</th>\n",
       "      <td>Fc1cccc(Oc2cc(C(F)(F)F)nc(N3CCc4nc[nH]c4C3)n2)c1</td>\n",
       "      <td>1</td>\n",
       "      <td>1</td>\n",
       "      <td>0</td>\n",
       "    </tr>\n",
       "    <tr>\n",
       "      <th>3</th>\n",
       "      <td>Cn1nccc1Cc1cn(-c2ccc(F)c(Cl)c2)nn1</td>\n",
       "      <td>1</td>\n",
       "      <td>0</td>\n",
       "      <td>0</td>\n",
       "    </tr>\n",
       "    <tr>\n",
       "      <th>4</th>\n",
       "      <td>CNC[C@@H](c1ccc(Cl)c(Cl)c1)[C@@H](OC)c1cccc(NS...</td>\n",
       "      <td>0</td>\n",
       "      <td>1</td>\n",
       "      <td>1</td>\n",
       "    </tr>\n",
       "    <tr>\n",
       "      <th>...</th>\n",
       "      <td>...</td>\n",
       "      <td>...</td>\n",
       "      <td>...</td>\n",
       "      <td>...</td>\n",
       "    </tr>\n",
       "    <tr>\n",
       "      <th>245</th>\n",
       "      <td>Cc1ccccc1N1N/C(=c2/c(-c3ccc(F)cc3)nn3c2=NC[C@@...</td>\n",
       "      <td>1</td>\n",
       "      <td>0</td>\n",
       "      <td>0</td>\n",
       "    </tr>\n",
       "    <tr>\n",
       "      <th>246</th>\n",
       "      <td>C/C(NNC(=O)c1cccc(S(=O)(=O)N2CCOCC2)c1)=C1/C=C...</td>\n",
       "      <td>0</td>\n",
       "      <td>1</td>\n",
       "      <td>0</td>\n",
       "    </tr>\n",
       "    <tr>\n",
       "      <th>247</th>\n",
       "      <td>O=C1C=C/C(=c2/ccc3n[nH]/c(=C4/C=NC=C(O[C@H]5CN...</td>\n",
       "      <td>1</td>\n",
       "      <td>1</td>\n",
       "      <td>1</td>\n",
       "    </tr>\n",
       "    <tr>\n",
       "      <th>248</th>\n",
       "      <td>CC(C)[C@]1(C)CC(=O)N(Cc2cc(F)cc(C(=O)N[C@@H](C...</td>\n",
       "      <td>1</td>\n",
       "      <td>0</td>\n",
       "      <td>1</td>\n",
       "    </tr>\n",
       "    <tr>\n",
       "      <th>249</th>\n",
       "      <td>O=C1C=C/C(=C2\\Nc3cc(Cl)c(Cl)cc3N2Cc2ccc(Cl)c(C...</td>\n",
       "      <td>1</td>\n",
       "      <td>1</td>\n",
       "      <td>0</td>\n",
       "    </tr>\n",
       "  </tbody>\n",
       "</table>\n",
       "<p>250 rows × 4 columns</p>\n",
       "</div>"
      ],
      "text/plain": [
       "                                                SMILES  hERG  Nav1.5  Cav1.2\n",
       "0          Cn1ccc(C[N+]2=CC(c3cccc(C(F)(F)F)c3)C=N2)n1     1       0       1\n",
       "1    CC(C)(C)OC(=O)N1CCN(c2nc3c([N+](=O)[O-])c(Br)c...     1       1       1\n",
       "2     Fc1cccc(Oc2cc(C(F)(F)F)nc(N3CCc4nc[nH]c4C3)n2)c1     1       1       0\n",
       "3                   Cn1nccc1Cc1cn(-c2ccc(F)c(Cl)c2)nn1     1       0       0\n",
       "4    CNC[C@@H](c1ccc(Cl)c(Cl)c1)[C@@H](OC)c1cccc(NS...     0       1       1\n",
       "..                                                 ...   ...     ...     ...\n",
       "245  Cc1ccccc1N1N/C(=c2/c(-c3ccc(F)cc3)nn3c2=NC[C@@...     1       0       0\n",
       "246  C/C(NNC(=O)c1cccc(S(=O)(=O)N2CCOCC2)c1)=C1/C=C...     0       1       0\n",
       "247  O=C1C=C/C(=c2/ccc3n[nH]/c(=C4/C=NC=C(O[C@H]5CN...     1       1       1\n",
       "248  CC(C)[C@]1(C)CC(=O)N(Cc2cc(F)cc(C(=O)N[C@@H](C...     1       0       1\n",
       "249  O=C1C=C/C(=C2\\Nc3cc(Cl)c(Cl)cc3N2Cc2ccc(Cl)c(C...     1       1       0\n",
       "\n",
       "[250 rows x 4 columns]"
      ]
     },
     "execution_count": 8,
     "metadata": {},
     "output_type": "execute_result"
    }
   ],
   "source": [
    "predictions"
   ]
  },
  {
   "cell_type": "code",
   "execution_count": 9,
   "id": "8db23d37",
   "metadata": {},
   "outputs": [
    {
     "data": {
      "image/png": "[encoded data removed]",
      "text/plain": [
       "<Figure size 700x437.5 with 2 Axes>"
      ]
     },
     "metadata": {},
     "output_type": "display_data"
    }
   ],
   "source": [
    "draw_confusion_matrix(eval_herg_set_60['Label'],predictions['hERG'])"
   ]
  },
  {
   "cell_type": "code",
   "execution_count": 10,
   "id": "7bf01cd7",
   "metadata": {},
   "outputs": [
    {
     "name": "stdout",
     "output_type": "stream",
     "text": [
      "Binary classification performace metrics:\n",
      "[[81 44]\n",
      " [28 97]]\n",
      "TP, FN, TN, FP\n",
      "97, 28, 81, 44\n",
      "AC: 0.712\n",
      "f1: 0.729\n",
      "SN: 0.776\n",
      "SP: 0.648\n",
      "CCR: 0.712\n",
      "MCC: 0.428\n"
     ]
    }
   ],
   "source": [
    "compute_metrics(eval_herg_set_60['Label'],predictions['hERG'])"
   ]
  },
  {
   "cell_type": "code",
   "execution_count": null,
   "id": "d5717578",
   "metadata": {},
   "outputs": [],
   "source": []
  }
 ],
 "metadata": {
  "kernelspec": {
   "display_name": "Python 3 (ipykernel)",
   "language": "python",
   "name": "python3"
  },
  "language_info": {
   "codemirror_mode": {
    "name": "ipython",
    "version": 3
   },
   "file_extension": ".py",
   "mimetype": "text/x-python",
   "name": "python",
   "nbconvert_exporter": "python",
   "pygments_lexer": "ipython3",
   "version": "3.7.12"
  }
 },
 "nbformat": 4,
 "nbformat_minor": 5
}
